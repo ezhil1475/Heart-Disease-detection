{
 "cells": [
  {
   "cell_type": "code",
   "execution_count": 1,
   "id": "a0a5f332-c7ce-488a-981f-d8fd66d7b41e",
   "metadata": {},
   "outputs": [
    {
     "name": "stdout",
     "output_type": "stream",
     "text": [
      "Heart Disease Prediction Results:\n",
      "Patient 1: Positive\n",
      "Patient 2: Negative\n",
      "Patient 3: Negative\n",
      "Patient 4: Negative\n",
      "Patient 5: Negative\n"
     ]
    }
   ],
   "source": [
    "patients = [\n",
    "    [63, 1, 1, 145, 233],\n",
    "    [37, 1, 0, 130, 250],\n",
    "    [41, 0, 1, 130, 204],\n",
    "    [56, 1, 1, 120, 236],\n",
    "    [57, 0, 0, 120, 354]\n",
    "]\n",
    "\n",
    "\n",
    "def predict_heart_disease(patient):\n",
    "    age = patient[0]\n",
    "    sex = patient[1]\n",
    "    chest_pain = patient[2]\n",
    "    bp = patient[3]\n",
    "    chol = patient[4]\n",
    "\n",
    "    if age > 50 and chest_pain == 1:\n",
    "        if bp > 140 or chol > 240:\n",
    "            return 1  \n",
    "    return 0 \n",
    "\n",
    "\n",
    "print(\"Heart Disease Prediction Results:\")\n",
    "for i, patient in enumerate(patients):\n",
    "    result = predict_heart_disease(patient)\n",
    "    status = \"Positive\" if result == 1 else \"Negative\"\n",
    "    print(f\"Patient {i+1}: {status}\")\n"
   ]
  },
  {
   "cell_type": "code",
   "execution_count": null,
   "id": "7c19f3d5-462b-4ec8-ac1d-c6fe62af54e1",
   "metadata": {},
   "outputs": [],
   "source": []
  }
 ],
 "metadata": {
  "kernelspec": {
   "display_name": "Python 3 (ipykernel)",
   "language": "python",
   "name": "python3"
  },
  "language_info": {
   "codemirror_mode": {
    "name": "ipython",
    "version": 3
   },
   "file_extension": ".py",
   "mimetype": "text/x-python",
   "name": "python",
   "nbconvert_exporter": "python",
   "pygments_lexer": "ipython3",
   "version": "3.12.4"
  }
 },
 "nbformat": 4,
 "nbformat_minor": 5
}
